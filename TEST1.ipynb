{
  "cells": [
    {
      "cell_type": "code",
      "execution_count": null,
      "metadata": {
        "id": "xTFLISVaZltl"
      },
      "outputs": [],
      "source": [
        "from google.colab import drive\n",
        "drive.mount('/content/drive')"
      ]
    },
    {
      "cell_type": "code",
      "execution_count": null,
      "metadata": {
        "id": "xX_33R8Jq0Er"
      },
      "outputs": [],
      "source": [
        "# 드라이브 위치 이동\n",
        "%cd -----PATH-----"
      ]
    },
    {
      "cell_type": "code",
      "execution_count": null,
      "metadata": {
        "id": "3yHMgaVdq71Q"
      },
      "outputs": [],
      "source": [
        "import pandas as pd\n",
        "import numpy as np\n",
        "import matplotlib.pyplot as plt"
      ]
    },
    {
      "cell_type": "code",
      "execution_count": null,
      "metadata": {
        "id": "tpl6tIiErH5o"
      },
      "outputs": [],
      "source": [
        "data = pd.read_csv(\"----DATA----\")"
      ]
    },
    {
      "cell_type": "code",
      "execution_count": null,
      "metadata": {
        "id": "K8XtzkQ0BoFq"
      },
      "outputs": [],
      "source": [
        "data.columns"
      ]
    },
    {
      "cell_type": "code",
      "execution_count": null,
      "metadata": {
        "id": "J_QlE96pB2wm"
      },
      "outputs": [],
      "source": [
        "data_need = data.drop(['membership_type_1', 'membership_type_2',\n",
        "       'membership_type_3', 'membership_type_4', 'membership_type_5',\n",
        "       'membership_type_6','tran_date','tran_time','play_date','play_st_time',\n",
        "       'discount_type','pre_open_date','open_date'], axis=1)"
      ]
    },
    {
      "cell_type": "code",
      "execution_count": null,
      "metadata": {
        "id": "tJrjCm8HDciw"
      },
      "outputs": [],
      "source": [
        "data_need = data_need[data_need.ticket_cancel==0]\n",
        "data_need = data_need.drop(['ticket_cancel'],axis=1)\n",
        "data_need = data_need[data_need.price > 0]\n",
        "data_need"
      ]
    },
    {
      "cell_type": "code",
      "execution_count": null,
      "metadata": {
        "id": "2eWGuvTTGxBG"
      },
      "outputs": [],
      "source": [
        "import statsmodels.api as sm\n",
        "import seaborn as sns"
      ]
    },
    {
      "cell_type": "code",
      "execution_count": null,
      "metadata": {
        "id": "W47AvccyG1N5"
      },
      "outputs": [],
      "source": [
        "data.info()"
      ]
    },
    {
      "cell_type": "code",
      "execution_count": null,
      "metadata": {
        "id": "nkVA_duOG3ln"
      },
      "outputs": [],
      "source": [
        "data.describe()"
      ]
    },
    {
      "cell_type": "code",
      "execution_count": null,
      "metadata": {
        "id": "0wpxyxrsG7Al"
      },
      "outputs": [],
      "source": [
        "data_need.isnull().sum()"
      ]
    },
    {
      "cell_type": "code",
      "execution_count": null,
      "metadata": {
        "id": "lWUCbq1aHFQT"
      },
      "outputs": [],
      "source": [
        "data_f = data_need.dropna(axis=0)\n",
        "data_f.isnull().sum()"
      ]
    },
    {
      "cell_type": "code",
      "execution_count": null,
      "metadata": {
        "id": "sGw85_oTMax6"
      },
      "outputs": [],
      "source": [
        "data_e = data_f.copy()"
      ]
    },
    {
      "cell_type": "code",
      "execution_count": null,
      "metadata": {
        "id": "Hcszb4_0H6LI"
      },
      "outputs": [],
      "source": [
        "# sns.pairplot(data_e)\n",
        "# plt.show()"
      ]
    },
    {
      "cell_type": "code",
      "execution_count": null,
      "metadata": {
        "id": "ZkTWMGuBI4GU"
      },
      "outputs": [],
      "source": [
        "# plt.figure(figsize=(20, 12))\n",
        "# plt.subplot(3,3,1)\n",
        "# sns.boxplot(x='age', y='price', data=data_e)\n",
        "# plt.subplot(3,3,2)\n",
        "# sns.boxplot(x='gender', y='price', data=data_e)\n",
        "# plt.subplot(3,3,3)\n",
        "# sns.boxplot(x='seat', y='price', data=data_e)\n",
        "# plt.subplot(3,3,4)\n",
        "# sns.boxplot(x='performance_code', y='price', data=data_e)\n",
        "# plt.subplot(3,3,5)\n",
        "# sns.boxplot(x='genre', y='price', data=data_e)\n",
        "# plt.subplot(3,3,6)\n",
        "# sns.boxplot(x='member_yn', y='price', data=data_e)\n",
        "# plt.show()"
      ]
    },
    {
      "cell_type": "code",
      "execution_count": null,
      "metadata": {
        "id": "SvdkRnotMQrP"
      },
      "outputs": [],
      "source": [
        "data_e.index = np.arange(len(data_e))"
      ]
    },
    {
      "cell_type": "code",
      "execution_count": null,
      "metadata": {
        "id": "HI977xIuL1SB"
      },
      "outputs": [],
      "source": [
        "data_e"
      ]
    },
    {
      "cell_type": "code",
      "execution_count": null,
      "metadata": {
        "id": "5J1ZaVTiOJTt"
      },
      "outputs": [],
      "source": [
        "# 성별 -> Male : 0, Female : 1\n",
        "def toNumeric_gender(x):\n",
        "    return x.map({\"M\":0, \"F\":1})\n",
        "\n",
        "data_e[['gender']] = data_e[['gender']].apply(toNumeric_gender)\n",
        "data_e"
      ]
    },
    {
      "cell_type": "code",
      "execution_count": null,
      "metadata": {
        "id": "LnFNvjPbF0jg"
      },
      "outputs": [],
      "source": [
        "data_e.place.unique()"
      ]
    },
    {
      "cell_type": "code",
      "execution_count": null,
      "metadata": {
        "id": "eiXKqFhiE9zO"
      },
      "outputs": [],
      "source": [
        "# place -> 0 ~ N으로\n",
        "def toNumeric_place(x):\n",
        "    return x.map({\"콘서트홀\":0, \"IBK챔버홀\":1, \"리사이틀홀\":2})\n",
        "\n",
        "data_e[['place']] = data_e[['place']].apply(toNumeric_place)\n",
        "data_e"
      ]
    },
    {
      "cell_type": "code",
      "execution_count": null,
      "metadata": {
        "id": "vJ-_or96HCns"
      },
      "outputs": [],
      "source": [
        "data_e.genre.unique()"
      ]
    },
    {
      "cell_type": "code",
      "execution_count": null,
      "metadata": {
        "id": "VOccFeNKFC-5"
      },
      "outputs": [],
      "source": [
        "# genre -> 0 ~ N으로\n",
        "def toNumeric_genre(x):\n",
        "    return x.map({\"독주\":0,\n",
        "                  \"오페라\":1,\n",
        "                  \"합창\":2,\n",
        "                  \"클래식\":3,\n",
        "                  \"교향곡\":4,\n",
        "                  \"실내악\":5,\n",
        "                  \"콘서트\":6,\n",
        "                  \"성악\":7,\n",
        "                  \"복합장르\":8,\n",
        "                  \"재즈\":9,\n",
        "                  \"크로스오버\":10,\n",
        "                  \"기타\":11,\n",
        "                  \"가족극\":12,\n",
        "                  \"전시\":13,\n",
        "                  \"무용\":14})\n",
        "\n",
        "data_e[['genre']] = data_e[['genre']].apply(toNumeric_genre)\n",
        "data_e"
      ]
    },
    {
      "cell_type": "code",
      "execution_count": null,
      "metadata": {
        "id": "D5pttZqIFFl3"
      },
      "outputs": [],
      "source": [
        "# seat -> 1층, 2층, 3층, 합창으로(일단 간단하게)\n",
        "def toNumeric_seat(x):\n",
        "    if \"1층\" in x : return 0\n",
        "    elif \"2층\" in x : return 1\n",
        "    elif \"3층\" in x : return 2\n",
        "    elif \"합창석\" in x : return 3\n",
        "    else : return 4\n",
        "\n",
        "data_e['seat'] = data_e['seat'].map(toNumeric_seat)\n",
        "data_e"
      ]
    },
    {
      "cell_type": "code",
      "execution_count": null,
      "metadata": {
        "id": "7PJWooXXR7YH"
      },
      "outputs": [],
      "source": [
        "# member_yn -> 0 ~ N으로\n",
        "def toNumeric_membership(x):\n",
        "    return x.map({\"N\":0, \"Y\":1})\n",
        "\n",
        "data_e[['member_yn']] = data_e[['member_yn']].apply(toNumeric_membership)\n",
        "data_e"
      ]
    },
    {
      "cell_type": "code",
      "execution_count": null,
      "metadata": {
        "id": "6hIRfZpeNdud"
      },
      "outputs": [],
      "source": [
        "Y = data_e.price"
      ]
    },
    {
      "cell_type": "code",
      "execution_count": null,
      "metadata": {
        "id": "Wt5ILm7jNn_i"
      },
      "outputs": [],
      "source": [
        "X = data_e[['age','gender','seat','performance_code','genre','place','running_time','intermission','member_yn']]"
      ]
    },
    {
      "cell_type": "code",
      "execution_count": null,
      "metadata": {
        "id": "X4sw_-A0NfL7"
      },
      "outputs": [],
      "source": [
        "from sklearn.preprocessing import MinMaxScaler\n",
        "from statsmodels.stats.outliers_influence import variance_inflation_factor\n",
        "\n",
        "def preprocessing(X):\n",
        "    scaler = MinMaxScaler()\n",
        "    X_scaled = scaler.fit_transform(X)\n",
        "    variables = X_scaled\n",
        "    vif = pd.DataFrame()\n",
        "    vif[\"VIF\"] = [variance_inflation_factor(variables, i) for i in range(variables.shape[1])]\n",
        "    vif[\"Features\"] = X.columns\n",
        "    print(vif)"
      ]
    },
    {
      "cell_type": "code",
      "execution_count": null,
      "metadata": {
        "id": "q6ubxzP7QiiZ"
      },
      "outputs": [],
      "source": [
        "preprocessing(X)"
      ]
    },
    {
      "cell_type": "code",
      "execution_count": null,
      "metadata": {
        "id": "skFq9yV6QkUd"
      },
      "outputs": [],
      "source": [
        "X.drop(['running_time', 'intermission', 'member_yn'], axis=1, inplace=True)\n",
        "preprocessing(X)"
      ]
    },
    {
      "cell_type": "code",
      "execution_count": null,
      "metadata": {
        "id": "e5M7f6NWSj2x"
      },
      "outputs": [],
      "source": [
        "from sklearn.model_selection import train_test_split\n",
        "x_train,x_test,y_train,y_test = train_test_split(X,Y,test_size = 0.25,random_state=355)"
      ]
    },
    {
      "cell_type": "markdown",
      "metadata": {
        "id": "uJacJn8DnXlw"
      },
      "source": [
        "## Multiple Linear Regression"
      ]
    },
    {
      "cell_type": "code",
      "execution_count": null,
      "metadata": {
        "id": "fXltK5mMSlkl"
      },
      "outputs": [],
      "source": [
        "from sklearn.linear_model import LinearRegression\n",
        "regression = LinearRegression()\n",
        "regression.fit(x_train,y_train)"
      ]
    },
    {
      "cell_type": "code",
      "execution_count": null,
      "metadata": {
        "id": "I0CV3tfcSnEw"
      },
      "outputs": [],
      "source": [
        "y_predict = regression.predict(x_test)"
      ]
    },
    {
      "cell_type": "code",
      "execution_count": null,
      "metadata": {
        "id": "pN2DBNCnSorj"
      },
      "outputs": [],
      "source": [
        "plt.scatter(y_test,y_predict)\n",
        "plt.suptitle('y_test vs y_pred', fontsize=20)\n",
        "plt.xlabel('y_test', fontsize=18)\n",
        "plt.ylabel('y_pred', fontsize=16)"
      ]
    },
    {
      "cell_type": "code",
      "execution_count": null,
      "metadata": {
        "id": "YIfG0PdPWmTn"
      },
      "outputs": [],
      "source": [
        "pred = pd.DataFrame(y_predict)\n",
        "pred.columns = ['price_pred']\n",
        "pred"
      ]
    },
    {
      "cell_type": "code",
      "execution_count": null,
      "metadata": {
        "id": "QTnrB9UHWpM6"
      },
      "outputs": [],
      "source": [
        "yt = pd.DataFrame(y_test)\n",
        "yt.index = np.arange(len(yt))\n",
        "yt.columns = ['price_true']\n",
        "yt"
      ]
    },
    {
      "cell_type": "code",
      "execution_count": null,
      "metadata": {
        "id": "dsTpBB4RXUGk"
      },
      "outputs": [],
      "source": [
        "yy = pd.concat([yt, pred], axis=1)\n",
        "yy['loss'] = yt.price_true - pred.price_pred\n",
        "yy\n",
        "# loss = yt.price_true.tolist()-pred.price_pred.tolist()\n",
        "# yy['loss'] = loss\n",
        "# yy"
      ]
    },
    {
      "cell_type": "code",
      "execution_count": null,
      "metadata": {
        "id": "rZx_8npVX0y5"
      },
      "outputs": [],
      "source": [
        "plt.plot(yy['price_true'][0:100], color='red')\n",
        "plt.plot(yy['price_pred'][0:100], color='green')\n",
        "plt.show()"
      ]
    },
    {
      "cell_type": "code",
      "execution_count": null,
      "metadata": {
        "id": "NG_pF19DSqUl"
      },
      "outputs": [],
      "source": [
        "import statsmodels.api as sms\n",
        "model_1 = sms.OLS(y_train, x_train).fit()\n",
        "model_1.summary()"
      ]
    },
    {
      "cell_type": "markdown",
      "metadata": {
        "id": "3YWdCFFFnTim"
      },
      "source": [
        "## KNN"
      ]
    },
    {
      "cell_type": "code",
      "execution_count": null,
      "metadata": {
        "id": "f1THz2dCnTN7"
      },
      "outputs": [],
      "source": [
        "from sklearn import neighbors\n",
        "from sklearn.metrics import mean_squared_error\n",
        "from math import sqrt\n",
        "%matplotlib inline\n",
        "\n",
        "rmse_val = []\n",
        "for K in range(20):\n",
        "    K = K+1\n",
        "    model = neighbors.KNeighborsRegressor(n_neighbors = K)\n",
        "\n",
        "    model.fit(x_train, y_train)  #fit the model\n",
        "    pred=model.predict(x_test) #make prediction on test set\n",
        "    error = sqrt(mean_squared_error(y_test,pred)) #calculate rmse\n",
        "    rmse_val.append(error) #store rmse values\n",
        "    print('RMSE value for k= ' , K , 'is:', error)"
      ]
    },
    {
      "cell_type": "code",
      "source": [
        "curve = pd.DataFrame(rmse_val) #elbow curve\n",
        "curve.plot()"
      ],
      "metadata": {
        "id": "YFn9DBt4socT"
      },
      "execution_count": null,
      "outputs": []
    },
    {
      "cell_type": "code",
      "source": [
        "# K = 7일때 가장 error가 작음\n",
        "model = neighbors.KNeighborsRegressor(n_neighbors = K)\n",
        "model.fit(x_train, y_train)  #fit the model\n",
        "pred=model.predict(x_test) #make prediction on test set"
      ],
      "metadata": {
        "id": "Cw6ty9fbrw_7"
      },
      "execution_count": null,
      "outputs": []
    },
    {
      "cell_type": "code",
      "source": [
        "true_y = pd.DataFrame(y_test)\n",
        "true_y.columns = ['price_true']\n",
        "true_y.index = np.arange(len(true_y))"
      ],
      "metadata": {
        "id": "SAf2Vz8Fr7Ah"
      },
      "execution_count": null,
      "outputs": []
    },
    {
      "cell_type": "code",
      "source": [
        "pred_d = pd.DataFrame(pred)\n",
        "pred_d.columns = ['price_pred']\n",
        "pred_d.index = np.arange(len(pred_d))"
      ],
      "metadata": {
        "id": "DZ8rAmOysLa8"
      },
      "execution_count": null,
      "outputs": []
    },
    {
      "cell_type": "code",
      "source": [
        "yy_2 = pd.concat([true_y, pred_d], axis=1)\n",
        "yy_2['loss'] = true_y.price_true - pred_d.price_pred\n",
        "yy_2"
      ],
      "metadata": {
        "id": "LotfCNW1sOS1"
      },
      "execution_count": null,
      "outputs": []
    },
    {
      "cell_type": "code",
      "source": [
        "yy_2.loss.mean()"
      ],
      "metadata": {
        "id": "sXTDEzxjtc3a"
      },
      "execution_count": null,
      "outputs": []
    },
    {
      "cell_type": "code",
      "source": [
        "yy.loss.mean()"
      ],
      "metadata": {
        "id": "DE6GgbXgs0xY"
      },
      "execution_count": null,
      "outputs": []
    },
    {
      "cell_type": "code",
      "source": [
        "plt.plot(yy['price_true'][0:100], color='red')\n",
        "plt.plot(yy['price_pred'][0:100], color='green')\n",
        "plt.show()"
      ],
      "metadata": {
        "id": "AA488LmStjRd"
      },
      "execution_count": null,
      "outputs": []
    }
  ],
  "metadata": {
    "colab": {
      "provenance": []
    },
    "kernelspec": {
      "display_name": "Python 3",
      "name": "python3"
    },
    "language_info": {
      "name": "python"
    }
  },
  "nbformat": 4,
  "nbformat_minor": 0
}